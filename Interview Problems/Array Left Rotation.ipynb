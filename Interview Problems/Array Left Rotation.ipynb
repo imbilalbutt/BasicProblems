{
 "cells": [
  {
   "cell_type": "markdown",
   "metadata": {},
   "source": [
    "A left rotation operation on an array shifts each of the array's elements unit to the left. For example, if left rotations are performed on array , then the array would become\n",
    "\n",
    ".\n",
    "\n",
    "Given an array\n",
    "of integers and a number, , perform\n",
    "\n",
    "left rotations on the array. Return the updated array to be printed as a single line of space-separated integers.\n",
    "\n",
    "Function Description\n",
    "\n",
    "Complete the function rotLeft in the editor below. It should return the resulting array of integers.\n",
    "\n",
    "rotLeft has the following parameter(s):\n",
    "\n",
    "    An array of integers \n",
    "\n",
    ".\n",
    "An integer\n",
    "\n",
    "    , the number of rotations.\n",
    "\n",
    "Input Format\n",
    "\n",
    "The first line contains two space-separated integers\n",
    "and , the size of and the number of left rotations you must perform.\n",
    "The second line contains space-separated integers\n",
    "\n",
    ".\n",
    "\n",
    "Constraints\n",
    "\n",
    "Output Format\n",
    "\n",
    "Print a single line of\n",
    "space-separated integers denoting the final state of the array after performing left rotations."
   ]
  },
  {
   "cell_type": "code",
   "execution_count": 4,
   "metadata": {
    "tags": []
   },
   "outputs": [
    {
     "name": "stdout",
     "output_type": "stream",
     "text": [
      "[5, 1, 2, 3, 4]\n"
     ]
    }
   ],
   "source": [
    "#!/bin/python3\n",
    "\n",
    "import math\n",
    "import os\n",
    "import random\n",
    "import re\n",
    "import sys\n",
    "\n",
    "# Method 1: With using an temp Array\n",
    "def rotLeft(a, d):\n",
    "    first_Part = a[0:d]\n",
    "    second_Part = a[d:len(a)]\n",
    "    new_a = second_Part\n",
    "    # for i in range (0, len(first_Part)):\n",
    "    #     new_a.append(first_Part[i])\n",
    "    new_a.extend(first_Part)\n",
    "    return new_a\n",
    "\n",
    "if __name__ == '__main__':\n",
    "    a = [1, 2 ,3 ,4, 5]\n",
    "    d = 4\n",
    "    \n",
    "    result = rotLeft(a, d)    \n",
    "    print(result)\n",
    "\n"
   ]
  },
  {
   "cell_type": "code",
   "execution_count": null,
   "metadata": {},
   "outputs": [],
   "source": []
  },
  {
   "cell_type": "code",
   "execution_count": null,
   "metadata": {},
   "outputs": [],
   "source": []
  },
  {
   "cell_type": "code",
   "execution_count": null,
   "metadata": {},
   "outputs": [],
   "source": []
  },
  {
   "cell_type": "code",
   "execution_count": null,
   "metadata": {},
   "outputs": [],
   "source": []
  }
 ],
 "metadata": {
  "kernelspec": {
   "display_name": "Python 3",
   "language": "python",
   "name": "python3"
  },
  "language_info": {
   "codemirror_mode": {
    "name": "ipython",
    "version": 3
   },
   "file_extension": ".py",
   "mimetype": "text/x-python",
   "name": "python",
   "nbconvert_exporter": "python",
   "pygments_lexer": "ipython3",
   "version": "3.7.2"
  }
 },
 "nbformat": 4,
 "nbformat_minor": 2
}
