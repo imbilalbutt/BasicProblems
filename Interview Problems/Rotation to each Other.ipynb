{
 "cells": [
  {
   "cell_type": "markdown",
   "metadata": {},
   "source": [
    "# How to check if two Strings are Rotations of each other or not?"
   ]
  },
  {
   "cell_type": "code",
   "execution_count": 4,
   "metadata": {},
   "outputs": [],
   "source": [
    "# String Rotation\n",
    "\n",
    "def rotate(str1, str2):\n",
    "    if (len(str1) != len(str2)):\n",
    "        return False\n",
    "    \n",
    "    concatenated = str1 + str1\n",
    "\n",
    "    if (concatenated.index(str2)) != -1:\n",
    "        return True\n",
    "    return False"
   ]
  },
  {
   "cell_type": "code",
   "execution_count": 5,
   "metadata": {},
   "outputs": [
    {
     "data": {
      "text/plain": [
       "True"
      ]
     },
     "execution_count": 5,
     "metadata": {},
     "output_type": "execute_result"
    }
   ],
   "source": [
    "# rotate(str1 = \"PakistanVsAustralia\", str2= \"AustraliaVsPakistan\")\n",
    "\n",
    "rotate(\"PakistanVsEngland\", \"EnglandPakistanVs\") # Yes, they are rotation to each other."
   ]
  },
  {
   "cell_type": "code",
   "execution_count": null,
   "metadata": {},
   "outputs": [],
   "source": []
  }
 ],
 "metadata": {
  "kernelspec": {
   "display_name": "Python 3",
   "language": "python",
   "name": "python3"
  },
  "language_info": {
   "codemirror_mode": {
    "name": "ipython",
    "version": 3
   },
   "file_extension": ".py",
   "mimetype": "text/x-python",
   "name": "python",
   "nbconvert_exporter": "python",
   "pygments_lexer": "ipython3",
   "version": "3.7.2"
  }
 },
 "nbformat": 4,
 "nbformat_minor": 4
}
